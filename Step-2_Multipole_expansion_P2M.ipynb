{
 "cells": [
  {
   "cell_type": "markdown",
   "metadata": {
    "collapsed": true
   },
   "source": [
    "## Step 2 : Multipole expansion"
   ]
  },
  {
   "cell_type": "markdown",
   "metadata": {},
   "source": [
    "When we have a big number of particles, do direct sumations is computationally expensive. Instead of calculating all pair interactions, we will applied a tree code method. With this method we treat by direct sumation only the particles that are close to the target, and the ones that are in distant cells are treated as a single *pseudo-particle* centered at the cell's center of mass by applying a multipole expansion. \n",
    "\n",
    "In this notebook we will show the difference beteween doing multiple expansion and direct sumation for different target particles. "
   ]
  },
  {
   "cell_type": "markdown",
   "metadata": {},
   "source": [
    "First, we introduce multipole expansion at a cell's center. In a word, we want to decouple the interaction term $\\frac{m_j}{r_{ij}}$ for the particles in a distance:\n",
    "\n",
    "$$\\begin{equation}\n",
    "\\Phi_i = \\sum_{j=0}^N{\\frac{m_j}{r_{ij}}} = \\sum_{j=0}^N {A_j B_i}\n",
    "\\end{equation}$$\n",
    "\n",
    "where $A_j$ is the term that only depends on source particles (*multipole*), and $B_i$ is the part depends on target particles (*weight*).\n",
    "\n",
    "Recall the second-order taylor expansion in three variables $x$, $y$, $z$:\n",
    "\n",
    "$$\\begin{equation}\\begin{split}\n",
    "f(x,y,z) & \\approx f(a,b,c) + \\left(x-a\\right)f_x(a,b,c) + \\left(y-b\\right)f_y(a,b,c) + \\left(z-c\\right)f_z(a,b,c) \\\\\n",
    "& + \\frac{1}{2!}[\\left(x-a\\right)^2f_{xx}(a,b,c) + \\left(y-b\\right)^2f_{yy}(a,b,c) + \\left(z-c\\right)^2f_{zz}(a,b,c) \\\\\n",
    "& + 2\\left(x-a\\right)\\left(y-b\\right)f_{xy}(a,b,c) + 2\\left(y-b\\right)\\left(z-c\\right)f_{yz}(a,b,c) \\\\ \n",
    "& + 2\\left(z-c\\right)\\left(x-a\\right)f_{zx}(a,b,c)]\n",
    "\\end{split}\\end{equation}$$\n",
    "\n",
    "We assume that: \n",
    "$$f(x_j,y_j,z_j) = \\frac{m_{j}}{r_{ij}} = \\frac{m_{j}}{\\sqrt{(x_i-x_j)^2 + (y_i-y_j)^2 + (z_i-z_j)^2}}$$ \n",
    "\n",
    "<img src=\"image/multipole.png\">\n",
    "\n",
    "Here we expand the interaction term $f(x_j,y_j,z_j)$ around a center point $(x_c, y_c, z_c)$ to the second order: \n",
    "\n",
    "$$\\begin{equation}\\begin{split}\n",
    "f(x_j,y_j,z_j) & \\approx f(x_c,y_c,z_c) + (x_j-x_c)\\, f_{x_j}\\rvert_c + (y_j-y_c)\\, f_{y_j}\\rvert_c + (z_j-z_c)\\, f_{z_j}\\rvert_c \\\\\n",
    "& + \\frac{1}{2!}[(x_j-x_c)^2f_{x_jx_j}\\rvert_c + (y_j-y_c)^2f_{y_jy_j}\\rvert_c + (z_j-z_c)^2f_{z_jz_j}\\rvert_c \\\\\n",
    "& + 2(x_j-x_c)(y_j-y_c)f_{x_jy_j}\\rvert_c + 2(y_j-y_c)(z_j-z_c)f_{y_jz_j}\\rvert_c \\\\ \n",
    "& + 2(z_j-z_c)(x_j-x_c)f_{z_jx_j}\\rvert_c]\n",
    "\\end{split}\\end{equation}$$\n",
    "\n",
    "then we calculate each derivative's value at the expansion center $(x_c,y_c,z_c)$:\n",
    "\n",
    "$$\\begin{equation}\\begin{split}\n",
    "& f_{x_j}\\rvert_c = \\frac{x_i-x_c}{R^3} m_j\\\\\n",
    "& f_{x_jx_j}\\rvert_c = \\left(\\frac{3(x_i-x_c)^2}{R^5} - \\frac{1}{R^3}\\right) m_j \\\\\n",
    "& f_{x_jy_j}\\rvert_c = \\frac{3(x_i-x_c)(y_i-y_c)}{R^5} m_j\n",
    "\\end{split}\\end{equation}$$\n",
    "\n",
    "where $R$ is the distance between target particle $i$ and the cell's center $c$. Now let's write out the interaction term again:\n",
    "\n",
    "$$\\begin{equation}\\begin{split}\n",
    "\\frac{m_j}{r_{ij}} & \\approx \\frac{m_j}{R} + m_j(x_c-x_j)\\left(-\\frac{x_i-x_c}{R^3}\\right) + m_j(y_c-y_j)\\left(-\\frac{y_i-y_c}{R^3}\\right) \\\\\n",
    "& + m_j(z_c-z_j)\\left(-\\frac{z_i-z_c}{R^3}\\right) + \\frac{m_j(x_c-x_j)^2}{2}\\left(\\frac{3(x_i-x_c)^2}{R^5} - \\frac{1}{R^3}\\right) \\\\\n",
    "& + \\frac{m_j(y_c-y_j)^2}{2}\\left(\\frac{3(y_i-y_c)^2}{R^5} - \\frac{1}{R^3}\\right) + \\frac{m_j(z_c-z_j)^2}{2}\\left(\\frac{3(z_i-z_c)^2}{R^5} - \\frac{1}{R^3}\\right) \\\\\n",
    "& + \\frac{m_j(x_c-x_j)(y_c-y_j)}{2}\\frac{3(x_i-x_c)(y_i-y_c)}{R^5} \\\\\n",
    "& + \\frac{m_j(y_c-y_j)(z_c-z_j)}{2}\\frac{3(y_i-y_c)(z_i-z_c)}{R^5} \\\\\n",
    "& + \\frac{m_j(z_c-z_j)(x_c-x_j)}{2}\\frac{3(z_i-z_c)(x_i-x_c)}{R^5}\n",
    "\\end{split}\\end{equation}$$\n",
    "\n",
    "The multipoles have no relationship with target particles, so we can calculate those constants before looping in $i$. The second part in each term only depends on target particles $i$, so we can calculate this part in the loop. From above we can write the interaction term as:\n",
    "\n",
    "$$\\begin{equation}\n",
    "\\frac{m_j}{r_{ij}} = \\sum_{k=1}^{10} A_k(j)\\,B_k(i)\n",
    "\\end{equation}$$\n",
    "\n",
    "Remember that what we just considered is only one source particle $j$'s effect on target $i$. In order to evaluate the potential $\\Phi_i$, we need to take all the source particles into account:\n",
    "\n",
    "$$\\begin{equation}\\begin{split}\n",
    "\\Phi_i & = \\sum_{j=0}^N{\\frac{m_j}{r_{ij}}} = \\sum_{j=0}^N \\sum_{k=1}^{10} A_k(j)\\,B_k(i) \\\\\n",
    "& = \\sum_{k=1}^{10} \\left(\\sum_{j=0}^N A_k(j)\\right) B_k(i)\n",
    "\\end{split}\\end{equation}$$"
   ]
  },
  {
   "cell_type": "code",
   "execution_count": 1,
   "metadata": {
    "collapsed": true
   },
   "outputs": [],
   "source": [
    "# importing libraries\n",
    "import numpy\n",
    "from treecode_helper import Particle, Point\n",
    "from matplotlib import pyplot, rcParams\n",
    "%matplotlib inline\n",
    "from mpl_toolkits.mplot3d import Axes3D\n",
    "\n",
    "# customizing plot parameters\n",
    "rcParams['figure.dpi'] = 100\n",
    "rcParams['font.size'] = 14\n",
    "rcParams['font.family'] = 'StixGeneral'"
   ]
  },
  {
   "cell_type": "code",
   "execution_count": 4,
   "metadata": {
    "collapsed": true
   },
   "outputs": [],
   "source": [
    "n = 50     # number of particles\n",
    "m = 1./n    # mass\n",
    "\n",
    "# initialize sources and targets\n",
    "source_coords = numpy.random.random((n, 3)).tolist()\n",
    "target_coords = (-numpy.random.random((n, 3))).tolist()\n",
    "sources = [ Particle(coord, m=m) for coord in source_coords ]\n",
    "targets = [ Particle(coord, m=m) for coord in target_coords ]"
   ]
  },
  {
   "cell_type": "code",
   "execution_count": 3,
   "metadata": {
    "collapsed": true
   },
   "outputs": [],
   "source": [
    "center = Point([0.5, 0.5, 0.5])"
   ]
  },
  {
   "cell_type": "code",
   "execution_count": null,
   "metadata": {
    "collapsed": true
   },
   "outputs": [],
   "source": []
  }
 ],
 "metadata": {
  "kernelspec": {
   "display_name": "Python 3",
   "language": "python",
   "name": "python3"
  },
  "language_info": {
   "codemirror_mode": {
    "name": "ipython",
    "version": 3
   },
   "file_extension": ".py",
   "mimetype": "text/x-python",
   "name": "python",
   "nbconvert_exporter": "python",
   "pygments_lexer": "ipython3",
   "version": "3.4.3"
  }
 },
 "nbformat": 4,
 "nbformat_minor": 0
}
