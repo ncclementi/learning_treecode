{
 "cells": [
  {
   "cell_type": "markdown",
   "metadata": {},
   "source": [
    "## Step 3 : shift the expansion M2M"
   ]
  },
  {
   "cell_type": "markdown",
   "metadata": {},
   "source": [
    "In the step 2 we grouped the sources in the same cell; but when the number\n",
    "of particles is large we need to build a hierarchical structure to group the particles, and make the code more efficient.\n",
    "\n",
    "We already know that the multipole of a cell only depends on the sources in that cell and the center of that cell. (the multipole is a \"property\" of a cell).\n",
    "\n",
    "Due to this \"property\", we are going to be able to evaluate the multipole of a parent cell given the multipole of its child cells. "
   ]
  },
  {
   "cell_type": "markdown",
   "metadata": {},
   "source": [
    "Here is how look some terms of the multipole expansion of a child cell $$c:\n",
    "\n",
    "\\begin{equation}\n",
    "\\begin{split}\n",
    "M_c &= \\sum_{j=0}^{N_c} m_j\\\\\n",
    "D_{c_x} &= \\sum_{j=0}^{N_c} m_j\\,( x_c - x_j)\\\\\n",
    "Q_{c_{xx}} &= \\sum_{j=0}^{N_c} \\frac{1}{2}m_j\\, ( x_c - x_j)^2 \\\\\n",
    "Q_{c_{xy}} &= \\sum_{j=0}^{N_c} \\frac{1}{2}m_j\\, (x_c-x_j)(y_c-y_j) \\\\\n",
    "\\end{split}\n",
    "\\end{equation}\n",
    "\n",
    "where $N_c$ is the number of sources in the child cell, $x_c$ is the cell's center, $M$, $D$, $Q$ are respectively monopole, dipole and quadrupole. (here only showing some terms, the other ones are similar)"
   ]
  },
  {
   "cell_type": "markdown",
   "metadata": {},
   "source": [
    "We will expand the particles from a *child* cell to a *parent* one, we will need to shift the center of expansion from ($x_c$, $y_c$, $z_c$) to ($x_p$, $y_p$, $z_p$). The expansion of the particles of a parent cell $p$ with 8 child cells:\n",
    "\n",
    "(We present some terms of the expansion, the other ones are similar.)\n",
    "\n",
    "\\begin{equation}\n",
    "\\begin{split}\n",
    "M_p &= \\sum_{j=0}^N m_j = \\sum_{c=0}^7 M_c\\\\\n",
    "D_{p_x} &= \\sum_{j=0}^N m_j\\,( x_p - x_j) = \\sum_{c=0}^7 \\left[\\sum_{j=0}^{N_c} m_j\\,(x_c-x_j) + ( x_p-x_c)\\sum_{j=0}^{N_c} m_j\\right]\\\\\n",
    "&= \\sum_{c=0}^{7} \\left[D_{c_x} + (x_p-x_c)\\,M_c\\right] \\\\\n",
    "Q_{p_{xx}} &= \\sum_{j=0}^N \\frac{1}{2}m_j \\,(x_p - x_j)^2 = \\sum_{c=0}^7 \\left[\\sum_{j=0}^N \\frac{1}{2}m_j\\left[(x_c-x_j)+(x_p-x_c)\\right]^2 \\right]\\\\\n",
    "&= \\sum_{c=0}^7 \\left[\\sum_{j=0}^N \\frac{1}{2}m_j (x_c - x_j)^2 + (x_p-x_c) \\sum_{j=0}^N m_j(x_c-x_j) + \\frac{(x_p-x_c)^2}{2} \\sum_{j=0}^N m_j \\right]\\\\\n",
    "&= \\sum_{c=0}^7 \\left[Q_{c_{xx}} + (x_p-x_c)D_c + \\frac{(x_p-x_c)^2}{2}M_c \\right]\\\\\n",
    "Q_{p_{xy}} &= \\sum_{j=0}^{N} \\frac{1}{2}m_j\\, (x_p-x_j)(y_p-y_j) \\\\\n",
    "&= \\sum_{c=0}^7 \\left[\\sum_{j=0}^{N} \\frac{1}{2}m_j(x_c-x_j)(y_c-y_j) + \\frac{(x_p-x_c)}{2}\\sum_{j=0}^{N}m_j(y_c-y_j) \\right.\\\\\n",
    "&+\\left. \\frac{(y_p-y_c)}{2}\\sum_{j=0}^{N}m_j(x_c-x_j) + \\frac{(x_p-x_c)(y_p-y_c)}{2}\\sum_{j=0}^{N}m_j\\right]\\\\\n",
    "&= \\sum_{c=0}^7 \\left[ Q_{c_{xy}} +\\frac{(x_p-x_c)}{2}D_{c_y} +\\frac{(y_p-y_c)}{2}D_{c_x} + \\frac{(x_p-x_c)(y_p-y_c)}{2}M_c \\right]\n",
    "\\end{split}\n",
    "\\end{equation}\n",
    "\n",
    "Each multipole term $M_p$, $D_p$, $Q_p$ in parent cell can be expressed by a summation of its child's multipole terms $M_c$, $D_c$, $Q_c$. Therefore, we refer this expansion shifting process as **Multipole-to-Multipole** or **M2M**"
   ]
  },
  {
   "cell_type": "code",
   "execution_count": 1,
   "metadata": {
    "collapsed": false
   },
   "outputs": [],
   "source": [
    "import numpy\n",
    "from treecode_helper import Particle, distance, l2_err, plot_err\n",
    "from matplotlib import pyplot, rcParams\n",
    "%matplotlib inline\n",
    "from mpl_toolkits.mplot3d import Axes3D\n",
    "\n",
    "# customizing plot parameters\n",
    "rcParams['figure.dpi'] = 100\n",
    "rcParams['font.size'] = 16\n",
    "rcParams['font.family'] = 'StixGeneral'"
   ]
  },
  {
   "cell_type": "code",
   "execution_count": 2,
   "metadata": {
    "collapsed": false
   },
   "outputs": [],
   "source": [
    "n = 50     # number of particles\n",
    "m = 1./n    # mass\n",
    "\n",
    "# initialize sources and targets\n",
    "source_coords = numpy.random.random((n, 3)).tolist()\n",
    "target_coords = (-numpy.random.random((n, 3))).tolist()\n",
    "sources = [ Particle(coord, m=m) for coord in source_coords ]\n",
    "targets = [ Particle(coord, m=m) for coord in target_coords ]"
   ]
  },
  {
   "cell_type": "code",
   "execution_count": 4,
   "metadata": {
    "collapsed": true
   },
   "outputs": [],
   "source": [
    "class Cell():\n",
    "    '''\n",
    "    The class for a cell\n",
    "    \n",
    "    Attributes:\n",
    "    -----------\n",
    "        x, y, z: x, y and z coordinates of the cell's center\n",
    "        multipole: the array that contains the multipoles of a cell\n",
    "    '''\n",
    "    \n",
    "    def __init__(self, x=None, y=None, z=None):\n",
    "        \n",
    "        #coordinates\n",
    "        self.x = x\n",
    "        self.y = y\n",
    "        self.z = z\n",
    "        \n",
    "        #multipole array\n",
    "        self.multipole = numpy.zeros(10)"
   ]
  },
  {
   "cell_type": "code",
   "execution_count": 8,
   "metadata": {
    "collapsed": false
   },
   "outputs": [],
   "source": [
    "#Creating a parent cell\n",
    "parent = Cell(0.5, 0.5, 0.5) #the inputs are the coordinates of the cell's center\n",
    "\n",
    "#Creating the 8 child-cells\n",
    "octant = numpy.arange(8)\n",
    "\n",
    "#Remember in python 3 the // is integer division \n",
    "x = (octant%2) * parent.x + parent.x/2.\n",
    "y = ((octant//2)%2) * parent.y + parent.y/2.\n",
    "z = ((octant//4)%2) * parent.z + parent.z/2.\n",
    "\n",
    "#Group of child cells\n",
    "children = [ Cell(x[i], y[i], z[i]) for i in range(8) ]\n"
   ]
  },
  {
   "cell_type": "code",
   "execution_count": null,
   "metadata": {
    "collapsed": false
   },
   "outputs": [],
   "source": [
    "#I was doing this to understand the previous cell, it seems it is a\n",
    "#pretty common way of indexing and locating coordinates in a 3D structure. \n",
    "'''octant = numpy.arange(8)\n",
    "\n",
    "x = octant%2\n",
    "y = (octant//2)#%2\n",
    "z = (octant//4)#%2\n",
    "\n",
    "\n",
    "print(octant)\n",
    "#print(x)\n",
    "print(y)\n",
    "#print(z)\n",
    "'''"
   ]
  }
 ],
 "metadata": {
  "kernelspec": {
   "display_name": "Python 3",
   "language": "python",
   "name": "python3"
  },
  "language_info": {
   "codemirror_mode": {
    "name": "ipython",
    "version": 3
   },
   "file_extension": ".py",
   "mimetype": "text/x-python",
   "name": "python",
   "nbconvert_exporter": "python",
   "pygments_lexer": "ipython3",
   "version": "3.4.3"
  }
 },
 "nbformat": 4,
 "nbformat_minor": 0
}
