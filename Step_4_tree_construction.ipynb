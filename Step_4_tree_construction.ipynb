{
 "cells": [
  {
   "cell_type": "markdown",
   "metadata": {},
   "source": [
    "### Some things about bitwise operations.\n",
    "\n",
    "x & y\n",
    "\n",
    "Does a \"bitwise and\". Each bit of the output is 1 if the corresponding bit of x AND of y is 1, otherwise it's 0. \n",
    "\n",
    "example:\n",
    "\n",
    "2&2 = 2\n",
    "       \n",
    "        2 ---> 0010\n",
    "          and\n",
    "        2 ---> 0010\n",
    "              ------ \n",
    "               0010 = 2      \n",
    "2&1 = 0\n",
    "        \n",
    "        2 ---> 0010\n",
    "          and\n",
    "        1 ---> 0001\n",
    "              ------ \n",
    "               0000 = 1\n",
    "\n",
    "\n",
    "x | y\n",
    "    \n",
    "Does a \"bitwise or\". Each bit of the output is 0 if the corresponding bit of x AND of y is 0, otherwise it's 1. \n",
    "    \n",
    "2&1 = 3\n",
    "        \n",
    "        2 ---> 0010\n",
    "           or\n",
    "        1 ---> 0001\n",
    "              ------ \n",
    "               0011 = 3\n",
    "\n",
    "\n",
    "To have the octants (0-7) in binary numbers in mind: \n",
    "\n",
    "    0000 = 0        0001 = 1        0010 = 2         0011 = 3\n",
    "\n",
    "    0100 = 4        0101 = 5        0110 = 6         0111 = 7\n"
   ]
  },
  {
   "cell_type": "markdown",
   "metadata": {},
   "source": [
    "## Constructing the tree\n",
    "\n",
    "Let's start to define the problem and our rules to build the tree. Consider there are $n=100$ particles randomly scatterd in the domain $x$, $y$, $z$ $\\in$ $\\left[ 0, 1 \\right]$, each of them is a source and target. To contain all the particles, we define a **root** cubic cell centered at $(0.5,0.5, 0.5)$ with a side length of $1$. For a cubic cell, the radius is the half of side length, thus the root cell's radius $r_r$ is $0.5$. Then we choose $n_{crit}=10$ as the threshold to split a cell."
   ]
  },
  {
   "cell_type": "code",
   "execution_count": 1,
   "metadata": {
    "collapsed": true
   },
   "outputs": [],
   "source": [
    "import numpy\n",
    "from treecode_helper import Point, Particle"
   ]
  },
  {
   "cell_type": "code",
   "execution_count": 2,
   "metadata": {
    "collapsed": true
   },
   "outputs": [],
   "source": [
    "n = 100          # number of particles\n",
    "particles = [ Particle(m=1.0/n) for i in range(n) ]\n",
    "\n",
    "n_crit = 10      # max number of particles in a single cell"
   ]
  },
  {
   "cell_type": "markdown",
   "metadata": {},
   "source": [
    "### Defining the class : Cell\n",
    "\n",
    "Since each non-empty cell is an instance which has some same properties (eg. cell's center coordinates, its parent, its children, its multipole, particles inside if it's a leaf), we first need to define a class for a cell, and we call this class \"Cell\". Every cell is an instance of **Class** \"**Cell**\", and all the instances are stored in a **list** called \"**cells**\". Therefore, the root cell is \"cells[0]\". For those who have not been exposed to object-oriented programming in python, check [this](http://www.tutorialspoint.com/python/python_classes_objects.htm) out as a quick guide.\n",
    "\n",
    "<img src=\"image/cell_class.png\">\n",
    "\n",
    "The figure above shows the \"content\" of a cell element:\n",
    "* $x_c$, $y_c$, $z_c$, $r_c$: center coordinates and radius give the geometry of the cell\n",
    "* a leaf of a cell is a particle stored in the cell, each leaf corresponds to a particle index from $0$ to $n-1$, and $n_{leaf}$ is number of leaves in the cell\n",
    "* **parent** is the index (in the cells list) of the corresponding parent. \n",
    "* **child** is the array that contains the indices (in the cells list) of the corresponding children.\n",
    "* **nchild** is an 8-bit binary number, each digit represents one of the eight child octants. $1$ denotes non-empty child cell, and $0$ denotes empty child cell in that octant. For example: nchild=00010100 means the current cell only has non-empty child in the fourth and sixth octant.\n",
    "* **multipole**: array of $10$ multipole terms of the cell"
   ]
  },
  {
   "cell_type": "code",
   "execution_count": 3,
   "metadata": {
    "collapsed": true
   },
   "outputs": [],
   "source": [
    "class Cell():\n",
    "    '''\n",
    "    The class for a cell\n",
    "    \n",
    "    Arguments\n",
    "    ----------\n",
    "        n_crit: maximum number of particles in a leaf cell.\n",
    "        \n",
    "    Attributes\n",
    "    ----------\n",
    "        nleaf (int): number of leaves in the cell.\n",
    "        leaf (array of int): array of leaves indices.\n",
    "        nchild (int): 8-bit binary number, used to keep\n",
    "                      track of the empty child cells\n",
    "        child (array of int): array of children indices.\n",
    "        parent (int): index of parent cell. \n",
    "        x, y, z (float): coordinates of the cell's center.\n",
    "        r (float): radius of the cell (half of the length for cubic cell)\n",
    "        multipole (array of float): array of multipoles' cell.\n",
    "    '''\n",
    "    \n",
    "    def __init__(self, n_crit):\n",
    "        \n",
    "        self.nleaf = 0\n",
    "        self.leaf = numpy.zeros(n_crit, dtype=numpy.int)\n",
    "        self.nchild = 0\n",
    "        self.child = numpy.zeros(8, dtype=numpy.int)\n",
    "        self.parent = 0\n",
    "        self.x = self.y = self.z = 0.\n",
    "        self.r = 0. \n",
    "        self.multipole= numpy.zeros(10, dtype=numpy.float)"
   ]
  },
  {
   "cell_type": "code",
   "execution_count": 4,
   "metadata": {
    "collapsed": true
   },
   "outputs": [],
   "source": [
    "#Let's generate the root cell\n",
    "\n",
    "root = Cell(n_crit)\n",
    "root.x, root.y, root.z = 0.5, 0.5, 0.5\n",
    "root.r = 0.5"
   ]
  },
  {
   "cell_type": "markdown",
   "metadata": {},
   "source": [
    "If we want to add more than 10 particles then we need to create a child by splitting the root cell. \"Adding a cell\" is going to be a dependency of \"splitting a cell\".\n",
    "\n",
    "The new child will be append at the end of the cells list.\n",
    "\n",
    "The relationships between parent and children are:\n",
    "    \n",
    "* $r_{child}$ = $\\frac{1}{2}r_{parent}$ for a cubic cell.\n",
    "* $x_{c_{c}}$, $y_{c_{c}}$, $z_{c_{c}}$ can be determined by its $octant$ and its parent's coordinates $x_{c_{p}}$, $y_{c_{p}}$, $z_{c_{p}}$.\n",
    "\n",
    "We need to establish a mutual reference between the parent and the child in the cells list. Consider a new child is created in the parent's $5th$ octant. We assign the new child's index to the parent by \"parent.child[$4$]=index_child\", and assign the parent's index to the new child by \"child.parent=index_parent\". Don't forget the 8-bit binary marker \"nchild\". Since the new child is at $5th$ octant, the fifth digit from the right should be changed from \"0\" to \"1\". Recall that we always manipulate the binary number with bit shift.\n"
   ]
  },
  {
   "cell_type": "code",
   "execution_count": 5,
   "metadata": {
    "collapsed": false
   },
   "outputs": [],
   "source": [
    "def add_child(octant, p, cells, n_crit):\n",
    "    '''\n",
    "    Appends a cell at the end of cells list as a child of p,\n",
    "    initializes the center and radius of the child cell c, \n",
    "    and establishes mutual reference between the child and parent p.\n",
    "    \n",
    "    Arguments:\n",
    "        octant: reference to the corresponding octant in 3D structure.\n",
    "        p: is the index (in the cells list) of the corresponding parent.\n",
    "        cells: the list of cells.\n",
    "        n_crit: maximum number of particles in a leaf cell.\n",
    "    '''\n",
    "    \n",
    "    #create a new cell instance and append it to cells list\n",
    "    cells.append(Cell(n_crit))\n",
    "\n",
    "    #the last element of the cells list is the new child\n",
    "    c = len(cells) - 1\n",
    "    \n",
    "    #geometric relationship between parent and child\n",
    "    cells[c].r = cells[p].r / 2.\n",
    "    cells[c].x = cells[p].x + cells[p].r * ((octant & 1) * 2 -1)\n",
    "    cells[c].y = cells[p].y + cells[p].r * ((octant & 2) - 1)\n",
    "    cells[c].z = cells[p].z + cells[p].r * ((octant & 4) / 2 -1)\n",
    "    \n",
    "    #establish mutual reference in the cells list\n",
    "    \n",
    "    cells[c].parent = p\n",
    "    cells[p].child[octant] = c\n",
    "    \n",
    "    # in this line we update the nchild the | operation results    \n",
    "    # in a adding 1 in the place of the bit where we just add a child.\n",
    "    cells[p].nchild = (cells[p].nchild | (1<<octant))     \n",
    "    print('+++ cell {} is created as a child of cell {}'.format(c,p)) "
   ]
  },
  {
   "cell_type": "markdown",
   "metadata": {
    "collapsed": true
   },
   "source": [
    "### Splitting a cell\n",
    "\n",
    "The \"split\" method will be recursive because there is a probability that  after splitting a cell, all the particles are reallocated to the same child. In this scenario, we have to recursively split the child cell again until all the cells satisfy the rule $n_{crit}=10$.\n",
    "\n",
    "Consider now we put $>$10 particles in the root cell. So it is time to split the root. In addition to create new child cells, we have also to \"settle\" down these particles. We loop over the them, and each particle is located in a certain octant from 0 to 7. If there is not a child cell in that octant, then we create one. If there is a child cell already created, we just put this particle in that child. Finally, we check if the number of particles in that child reaches $n_{crit}$, if yes, we split it recursively. \n",
    "\n",
    "<img src=\"image/split_cell.png\">"
   ]
  },
  {
   "cell_type": "code",
   "execution_count": null,
   "metadata": {
    "collapsed": true
   },
   "outputs": [],
   "source": [
    "def split_cell(particles, p, cells, n_crit):\n",
    "    '''\n",
    "    Loop in parent p's leaves and reallocare the particles to subcells. \n",
    "    If a subcell has not been created in that octant, it creates one \n",
    "    using add_child. If the subcell nleaf exceeds n_crit, split the\n",
    "    subcell \"c\" recursively.\n",
    "    \n",
    "    Arguments:\n",
    "    ----------\n",
    "        particles: the list of particles.\n",
    "        p: is the index (in the cells list) of the corresponding parent.\n",
    "        cells: the list of cells.\n",
    "        n_crit: maximum number of particles in a leaf cell.\n",
    "    '''\n",
    "    \n",
    "    print('=========start the splitting of cell {}========='.format(p))\n",
    "    \n",
    "    # loop over the particles in the parent cell that you want to split\n",
    "    \n",
    "    for l in cells[p].leaf:\n",
    "        # finding the particle's octant \n",
    "        octant = (particles[l].x > cells[p].x) + \\\n",
    "                 ((particles[l].y > cells[p].y) << 1) + \\\n",
    "                 ((particles[l].z > cells[p].z) << 2)   \n",
    "    \n",
    "        # if there is not a child cell in the particle's octant, then create one\n",
    "        if not cells[p].nchild & (1 << octant):\n",
    "            add_child(octant, p, cells, n_crit)\n",
    "    \n",
    "        # reallocate the particle in the child cell\n",
    "        c = cells[p].child[octant]\n",
    "        cells[c].leaf[cells[c].nleaf] = l\n",
    "        cells[c].nleaf += 1\n",
    "        \n",
    "        print('>>>particle {} is reallocated in cell {}'.format(l, c))\n",
    "        \n",
    "        # check if the child reach n_crit, if yes ---> split cell\n",
    "        if cell[c].nleaf >= n_crit: #nleaf starts on 0 that's why the =\n",
    "            split_cell(particles, c, cells, n_crit)\n",
    "    print('=========end the splitting of cell {}========='.format(p))"
   ]
  }
 ],
 "metadata": {
  "kernelspec": {
   "display_name": "Python 3",
   "language": "python",
   "name": "python3"
  },
  "language_info": {
   "codemirror_mode": {
    "name": "ipython",
    "version": 3
   },
   "file_extension": ".py",
   "mimetype": "text/x-python",
   "name": "python",
   "nbconvert_exporter": "python",
   "pygments_lexer": "ipython3",
   "version": "3.4.3"
  }
 },
 "nbformat": 4,
 "nbformat_minor": 0
}
