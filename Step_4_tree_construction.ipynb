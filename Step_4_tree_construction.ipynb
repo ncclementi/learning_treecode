{
 "cells": [
  {
   "cell_type": "markdown",
   "metadata": {},
   "source": [
    "### Some things about bitwise operations.\n",
    "\n",
    "x & y\n",
    "\n",
    "Does a \"bitwise and\". Each bit of the output is 1 if the corresponding bit of x AND of y is 1, otherwise it's 0. \n",
    "\n",
    "example:\n",
    "\n",
    "2&2 = 2\n",
    "       \n",
    "        2 ---> 0010\n",
    "          and\n",
    "        2 ---> 0010\n",
    "              ------ \n",
    "               0010 = 2      \n",
    "2&1 = 0\n",
    "        \n",
    "        2 ---> 0010\n",
    "          and\n",
    "        1 ---> 0001\n",
    "              ------ \n",
    "               0000 = 1\n",
    "\n",
    "\n",
    "x | y\n",
    "    \n",
    "Does a \"bitwise or\". Each bit of the output is 0 if the corresponding bit of x AND of y is 0, otherwise it's 1. \n",
    "    \n",
    "2&1 = 3\n",
    "        \n",
    "        2 ---> 0010\n",
    "           or\n",
    "        1 ---> 0001\n",
    "              ------ \n",
    "               0011 = 3\n",
    "\n",
    "\n",
    "To have the octants (0-7) in binary numbers in mind: \n",
    "\n",
    "    0000 = 0        0001 = 1        0010 = 2         0011 = 3\n",
    "\n",
    "    0100 = 4        0101 = 5        0110 = 6         0111 = 7\n"
   ]
  },
  {
   "cell_type": "markdown",
   "metadata": {},
   "source": [
    "## Constructing the tree\n",
    "\n",
    "Let's start to define the problem and our rules to build the tree. Consider there are $n=100$ particles randomly scatterd in the domain $x$, $y$, $z$ $\\in$ $\\left[ 0, 1 \\right]$, each of them is a source and target. To contain all the particles, we define a **root** cubic cell centered at $(0.5,0.5, 0.5)$ with a side length of $1$. For a cubic cell, the radius is the half of side length, thus the root cell's radius $r_r$ is $0.5$. Then we choose $n_{crit}=10$ as the threshold to split a cell."
   ]
  },
  {
   "cell_type": "code",
   "execution_count": 1,
   "metadata": {
    "collapsed": true
   },
   "outputs": [],
   "source": [
    "import numpy\n",
    "from treecode_helper import Point, Particle"
   ]
  },
  {
   "cell_type": "code",
   "execution_count": 2,
   "metadata": {
    "collapsed": true
   },
   "outputs": [],
   "source": [
    "n = 100          # number of particles\n",
    "particles = [ Particle(m=1.0/n) for i in range(n) ]\n",
    "\n",
    "n_crit = 10      # max number of particles in a single cell"
   ]
  },
  {
   "cell_type": "markdown",
   "metadata": {},
   "source": [
    "### Defining the class : Cell\n",
    "\n",
    "Since each non-empty cell is an instance which has some same properties (eg. cell's center coordinates, its parent, its children, its multipole, particles inside if it's a leaf), we first need to define a class for a cell, and we call this class \"Cell\". Every cell is an instance of **Class** \"**Cell**\", and all the instances are stored in a **list** called \"**cells**\". Therefore, the root cell is \"cells[0]\". For those who have not been exposed to object-oriented programming in python, check [this](http://www.tutorialspoint.com/python/python_classes_objects.htm) out as a quick guide.\n",
    "\n",
    "<img src=\"image/cell_class.png\">\n",
    "\n",
    "The figure above shows the \"content\" of a cell element:\n",
    "* $x_c$, $y_c$, $z_c$, $r_c$: center coordinates and radius give the geometry of the cell\n",
    "* a leaf of a cell is a particle stored in the cell, each leaf corresponds to a particle index from $0$ to $n-1$, and $n_{leaf}$ is number of leaves in the cell\n",
    "* **parent** is the index (in the cells list) of the corresponding parent. \n",
    "* **child** is the array that contains the indices (in the cells list) of the corresponding children.\n",
    "* **nchild** is an 8-bit binary number, each digit represents one of the eight child octants. $1$ denotes non-empty child cell, and $0$ denotes empty child cell in that octant. For example: nchild=00010100 means the current cell only has non-empty child in the fourth and sixth octant.\n",
    "* **multipole**: array of $10$ multipole terms of the cell"
   ]
  },
  {
   "cell_type": "markdown",
   "metadata": {},
   "source": [
    "\n",
    "\n"
   ]
  }
 ],
 "metadata": {
  "kernelspec": {
   "display_name": "Python 3",
   "language": "python",
   "name": "python3"
  },
  "language_info": {
   "codemirror_mode": {
    "name": "ipython",
    "version": 3
   },
   "file_extension": ".py",
   "mimetype": "text/x-python",
   "name": "python",
   "nbconvert_exporter": "python",
   "pygments_lexer": "ipython3",
   "version": "3.4.3"
  }
 },
 "nbformat": 4,
 "nbformat_minor": 0
}
