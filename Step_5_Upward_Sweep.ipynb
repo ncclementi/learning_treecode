{
 "cells": [
  {
   "cell_type": "markdown",
   "metadata": {},
   "source": [
    "## Step 5 : Upward sweep"
   ]
  },
  {
   "cell_type": "markdown",
   "metadata": {},
   "source": [
    "In this notebook, we will exploit the advantage of tree structure to calculate the multipole for each cell."
   ]
  },
  {
   "cell_type": "code",
   "execution_count": 1,
   "metadata": {
    "collapsed": true
   },
   "outputs": [],
   "source": [
    "import numpy\n",
    "from treecode_helper import Particle, Cell, build_tree"
   ]
  },
  {
   "cell_type": "code",
   "execution_count": 2,
   "metadata": {
    "collapsed": true
   },
   "outputs": [],
   "source": [
    "n = 100            #number of particles\n",
    "particles = [Particle(m = 1.0/n) for i in range(n)]\n",
    "n_crit = 10        #max number of particles in a single cell."
   ]
  },
  {
   "cell_type": "code",
   "execution_count": 3,
   "metadata": {
    "collapsed": true
   },
   "outputs": [],
   "source": [
    "root = Cell(n_crit)\n",
    "root.x, root.y, root.z = 0.5, 0.5, 0.5\n",
    "root.r = 0.5"
   ]
  },
  {
   "cell_type": "code",
   "execution_count": 4,
   "metadata": {
    "collapsed": true
   },
   "outputs": [],
   "source": [
    "cells = build_tree(particles, root, n_crit)"
   ]
  },
  {
   "cell_type": "markdown",
   "metadata": {},
   "source": [
    "In order to evaluate the potential at each target, we need to calculate the multipole of each cell on the tree (traverse the tree). Since we can obtain a cell's multipole by shifting all its children's multipoles (**M2M**), a natural way to traverse the tree is to start with calculating the multipoles of all leaf cells (**P2M**), and then sweep upward (from leaf cell to root cell) to implement **M2M**."
   ]
  },
  {
   "cell_type": "code",
   "execution_count": 5,
   "metadata": {
    "collapsed": true
   },
   "outputs": [],
   "source": [
    "def get_multipole(particles, p, cells, n_crit):\n",
    "    \"\"\"Calculate multipole arrays for all leaf cells under cell p.\n",
    "    If leaf number of cell p is equal or bigger than n_crit (non-leaf),\n",
    "    traverse down recursively. Otherwise (leaf), calculate the multipole\n",
    "    arrays for leaf cell p.\n",
    "    \n",
    "    Arguments:\n",
    "        p: current cell's index\n",
    "        cells: the list of cells\n",
    "        particles: the array of all particles\n",
    "        n_crit: maximum number of leaves in a single cell\n",
    "    \"\"\"\n",
    "    \n",
    "    # if the current cell p is not a leaf cell, then\n",
    "    # recursively traverse down\n",
    "    \n",
    "    if cells[p].nleaf >= n_crit:\n",
    "        \n",
    "        for c in range(8): #checking all the octants\n",
    "            \n",
    "            if cells[p].nchild & (1 << c):\n",
    "                \n",
    "                get_multipole(particles, cells[p].child[c], cells, n_crit)\n",
    "    else:\n",
    "        # loop in leaf particles, do P2M\n",
    "        for i in range(cells[p].nleaf):\n",
    "            \n",
    "            l = cells[p].leaf[i]\n",
    "            dx, dy, dz = cells[p].x-particles[l].x, \\\n",
    "                         cells[p].y-particles[l].y, \\\n",
    "                         cells[p].z-particles[l].z\n",
    "            \n",
    "            cells[p].multipole += particles[l].m * \\\n",
    "                                  numpy.array((1, dx, dy, dz,\\\n",
    "                                               dx**2/2, dy**2/2, dz**2/2,\\\n",
    "                                               dx*dy/2, dy*dz/2, dz*dx/2)) "
   ]
  },
  {
   "cell_type": "markdown",
   "metadata": {},
   "source": [
    "In `get_multipole`, we first recursively traverse down from $p$-th cell to find the leaf cells among its descendants, and then do the P2M in the same way as we did in step 03. Knowing that the $1st$ element in `cells` is the root cell, we can calculate each leaf cell's multipole by setting $p=0$."
   ]
  },
  {
   "cell_type": "code",
   "execution_count": 6,
   "metadata": {
    "collapsed": true
   },
   "outputs": [],
   "source": [
    "root = 0    # index of the root cell\n",
    "get_multipole(particles, root, cells, n_crit)"
   ]
  },
  {
   "cell_type": "code",
   "execution_count": 7,
   "metadata": {
    "collapsed": true
   },
   "outputs": [],
   "source": [
    "def M2M(p, c, cells):\n",
    "    \"\"\"Calculate parent cell p's multipole array based on child cell c's \n",
    "    multipoles\n",
    "    \n",
    "    Arguments:\n",
    "        p: parent cell index in cells list\n",
    "        c: child cell index in cells list\n",
    "        cells: the list of cells\n",
    "    \"\"\"\n",
    "    dx, dy, dz = cells[p].x-cells[c].x, cells[p].y-cells[c].y, cells[p].z-cells[c].z\n",
    "    \n",
    "    Dxyz =  numpy.array((dx, dy, dz))\n",
    "    Dyzx = numpy.roll(Dxyz,-1) #It permutes the array (dx,dy,dz) to (dy,dz,dx) \n",
    "    \n",
    "    cells[p].multipole += cells[c].multipole\n",
    "    \n",
    "    cells[p].multipole[1:4] += cells[c].multipole[0] * Dxyz\n",
    "    \n",
    "    cells[p].multipole[4:7] += cells[c].multipole[1:4] * Dxyz\\\n",
    "                             + 0.5*cells[c].multipole[0] *  Dxyz**2\n",
    "    \n",
    "    cells[p].multipole[7:] += 0.5*numpy.roll(cells[c].multipole[1:4], -1) * Dxyz \\\n",
    "                            + 0.5*cells[c].multipole[1:4] * Dxyz \\\n",
    "                            + 0.5*cells[c].multipole[0] * Dxyz * Dyzx   "
   ]
  },
  {
   "cell_type": "markdown",
   "metadata": {},
   "source": [
    "Recall that we contructed the tree in such fashion that the child of the $p$-th cell will be always located at the right side of $p$ in the list `cells`. Therefore, each leaf cell will be on the right side of its parents. Thus, one way to traverse the tree is looping from the tail to the head of the list `cells`."
   ]
  },
  {
   "cell_type": "code",
   "execution_count": 8,
   "metadata": {
    "collapsed": true
   },
   "outputs": [],
   "source": [
    "def upward_sweep(cells):\n",
    "    \"\"\"Traverse from leaves to root, in order to calculate multipoles\n",
    "    of all the cells.\n",
    "    \n",
    "    Arguments:\n",
    "        cells: the list of cells\n",
    "    \n",
    "    \"\"\"\n",
    "    for c in range(len(cells)-1, 0, -1):\n",
    "        p = cells[c].parent\n",
    "        M2M(p, c, cells)"
   ]
  },
  {
   "cell_type": "code",
   "execution_count": 9,
   "metadata": {
    "collapsed": false
   },
   "outputs": [],
   "source": [
    "upward_sweep(cells)"
   ]
  },
  {
   "cell_type": "code",
   "execution_count": null,
   "metadata": {
    "collapsed": true
   },
   "outputs": [],
   "source": []
  }
 ],
 "metadata": {
  "kernelspec": {
   "display_name": "Python 3",
   "language": "python",
   "name": "python3"
  },
  "language_info": {
   "codemirror_mode": {
    "name": "ipython",
    "version": 3
   },
   "file_extension": ".py",
   "mimetype": "text/x-python",
   "name": "python",
   "nbconvert_exporter": "python",
   "pygments_lexer": "ipython3",
   "version": "3.4.3"
  }
 },
 "nbformat": 4,
 "nbformat_minor": 0
}
